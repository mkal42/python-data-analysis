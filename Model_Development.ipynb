{
 "cells": [
  {
   "cell_type": "markdown",
   "metadata": {},
   "source": [
    "#### Import Required Libraries"
   ]
  },
  {
   "cell_type": "code",
   "execution_count": 36,
   "metadata": {},
   "outputs": [],
   "source": [
    "import pandas as pd\n",
    "import numpy as np\n",
    "import seaborn as sns\n",
    "from sklearn.linear_model import LinearRegression\n",
    "from matplotlib import pyplot as plt"
   ]
  },
  {
   "cell_type": "markdown",
   "metadata": {},
   "source": [
    "#### Read in Automobiles Dataset"
   ]
  },
  {
   "cell_type": "code",
   "execution_count": 30,
   "metadata": {},
   "outputs": [
    {
     "data": {
      "text/html": [
       "<div>\n",
       "<table border=\"1\" class=\"dataframe\">\n",
       "  <thead>\n",
       "    <tr style=\"text-align: right;\">\n",
       "      <th></th>\n",
       "      <th>symboling</th>\n",
       "      <th>normalized-losses</th>\n",
       "      <th>make</th>\n",
       "      <th>fuel-type</th>\n",
       "      <th>aspiration</th>\n",
       "      <th>num-of-doors</th>\n",
       "      <th>body-style</th>\n",
       "      <th>drive-wheels</th>\n",
       "      <th>engine-location</th>\n",
       "      <th>wheel-base</th>\n",
       "      <th>...</th>\n",
       "      <th>engine-size</th>\n",
       "      <th>fuel-system</th>\n",
       "      <th>bore</th>\n",
       "      <th>stroke</th>\n",
       "      <th>compression-ratio</th>\n",
       "      <th>horsepower</th>\n",
       "      <th>peak-rpm</th>\n",
       "      <th>city-mpg</th>\n",
       "      <th>highway-mpg</th>\n",
       "      <th>price</th>\n",
       "    </tr>\n",
       "  </thead>\n",
       "  <tbody>\n",
       "    <tr>\n",
       "      <th>0</th>\n",
       "      <td>3</td>\n",
       "      <td>NaN</td>\n",
       "      <td>alfa-romero</td>\n",
       "      <td>gas</td>\n",
       "      <td>std</td>\n",
       "      <td>two</td>\n",
       "      <td>convertible</td>\n",
       "      <td>rwd</td>\n",
       "      <td>front</td>\n",
       "      <td>88.6</td>\n",
       "      <td>...</td>\n",
       "      <td>130</td>\n",
       "      <td>mpfi</td>\n",
       "      <td>3.47</td>\n",
       "      <td>2.68</td>\n",
       "      <td>9.0</td>\n",
       "      <td>111.0</td>\n",
       "      <td>5000.0</td>\n",
       "      <td>21</td>\n",
       "      <td>27</td>\n",
       "      <td>13495.0</td>\n",
       "    </tr>\n",
       "    <tr>\n",
       "      <th>1</th>\n",
       "      <td>3</td>\n",
       "      <td>NaN</td>\n",
       "      <td>alfa-romero</td>\n",
       "      <td>gas</td>\n",
       "      <td>std</td>\n",
       "      <td>two</td>\n",
       "      <td>convertible</td>\n",
       "      <td>rwd</td>\n",
       "      <td>front</td>\n",
       "      <td>88.6</td>\n",
       "      <td>...</td>\n",
       "      <td>130</td>\n",
       "      <td>mpfi</td>\n",
       "      <td>3.47</td>\n",
       "      <td>2.68</td>\n",
       "      <td>9.0</td>\n",
       "      <td>111.0</td>\n",
       "      <td>5000.0</td>\n",
       "      <td>21</td>\n",
       "      <td>27</td>\n",
       "      <td>16500.0</td>\n",
       "    </tr>\n",
       "    <tr>\n",
       "      <th>2</th>\n",
       "      <td>1</td>\n",
       "      <td>NaN</td>\n",
       "      <td>alfa-romero</td>\n",
       "      <td>gas</td>\n",
       "      <td>std</td>\n",
       "      <td>two</td>\n",
       "      <td>hatchback</td>\n",
       "      <td>rwd</td>\n",
       "      <td>front</td>\n",
       "      <td>94.5</td>\n",
       "      <td>...</td>\n",
       "      <td>152</td>\n",
       "      <td>mpfi</td>\n",
       "      <td>2.68</td>\n",
       "      <td>3.47</td>\n",
       "      <td>9.0</td>\n",
       "      <td>154.0</td>\n",
       "      <td>5000.0</td>\n",
       "      <td>19</td>\n",
       "      <td>26</td>\n",
       "      <td>16500.0</td>\n",
       "    </tr>\n",
       "    <tr>\n",
       "      <th>3</th>\n",
       "      <td>2</td>\n",
       "      <td>164.0</td>\n",
       "      <td>audi</td>\n",
       "      <td>gas</td>\n",
       "      <td>std</td>\n",
       "      <td>four</td>\n",
       "      <td>sedan</td>\n",
       "      <td>fwd</td>\n",
       "      <td>front</td>\n",
       "      <td>99.8</td>\n",
       "      <td>...</td>\n",
       "      <td>109</td>\n",
       "      <td>mpfi</td>\n",
       "      <td>3.19</td>\n",
       "      <td>3.40</td>\n",
       "      <td>10.0</td>\n",
       "      <td>102.0</td>\n",
       "      <td>5500.0</td>\n",
       "      <td>24</td>\n",
       "      <td>30</td>\n",
       "      <td>13950.0</td>\n",
       "    </tr>\n",
       "    <tr>\n",
       "      <th>4</th>\n",
       "      <td>2</td>\n",
       "      <td>164.0</td>\n",
       "      <td>audi</td>\n",
       "      <td>gas</td>\n",
       "      <td>std</td>\n",
       "      <td>four</td>\n",
       "      <td>sedan</td>\n",
       "      <td>4wd</td>\n",
       "      <td>front</td>\n",
       "      <td>99.4</td>\n",
       "      <td>...</td>\n",
       "      <td>136</td>\n",
       "      <td>mpfi</td>\n",
       "      <td>3.19</td>\n",
       "      <td>3.40</td>\n",
       "      <td>8.0</td>\n",
       "      <td>115.0</td>\n",
       "      <td>5500.0</td>\n",
       "      <td>18</td>\n",
       "      <td>22</td>\n",
       "      <td>17450.0</td>\n",
       "    </tr>\n",
       "  </tbody>\n",
       "</table>\n",
       "<p>5 rows × 26 columns</p>\n",
       "</div>"
      ],
      "text/plain": [
       "   symboling  normalized-losses         make fuel-type aspiration  \\\n",
       "0          3                NaN  alfa-romero       gas        std   \n",
       "1          3                NaN  alfa-romero       gas        std   \n",
       "2          1                NaN  alfa-romero       gas        std   \n",
       "3          2              164.0         audi       gas        std   \n",
       "4          2              164.0         audi       gas        std   \n",
       "\n",
       "  num-of-doors   body-style drive-wheels engine-location  wheel-base   ...     \\\n",
       "0          two  convertible          rwd           front        88.6   ...      \n",
       "1          two  convertible          rwd           front        88.6   ...      \n",
       "2          two    hatchback          rwd           front        94.5   ...      \n",
       "3         four        sedan          fwd           front        99.8   ...      \n",
       "4         four        sedan          4wd           front        99.4   ...      \n",
       "\n",
       "   engine-size  fuel-system  bore  stroke compression-ratio horsepower  \\\n",
       "0          130         mpfi  3.47    2.68               9.0      111.0   \n",
       "1          130         mpfi  3.47    2.68               9.0      111.0   \n",
       "2          152         mpfi  2.68    3.47               9.0      154.0   \n",
       "3          109         mpfi  3.19    3.40              10.0      102.0   \n",
       "4          136         mpfi  3.19    3.40               8.0      115.0   \n",
       "\n",
       "   peak-rpm city-mpg  highway-mpg    price  \n",
       "0    5000.0       21           27  13495.0  \n",
       "1    5000.0       21           27  16500.0  \n",
       "2    5000.0       19           26  16500.0  \n",
       "3    5500.0       24           30  13950.0  \n",
       "4    5500.0       18           22  17450.0  \n",
       "\n",
       "[5 rows x 26 columns]"
      ]
     },
     "execution_count": 30,
     "metadata": {},
     "output_type": "execute_result"
    }
   ],
   "source": [
    "df = pd.read_csv(\"automobiles.csv\", index_col=0, na_values=[\"?\"])\n",
    "\n",
    "# Drop rows with missing value for price, horsepower, curb-weight, engine-size, and highway-mpg\n",
    "df.dropna(subset=[\"price\", \"horsepower\", \"curb-weight\", \"engine-size\", \"highway-mpg\"], axis=0, inplace = True)\n",
    "\n",
    "df.head()"
   ]
  },
  {
   "cell_type": "markdown",
   "metadata": {},
   "source": [
    "### Simple Linear Model"
   ]
  },
  {
   "cell_type": "code",
   "execution_count": 24,
   "metadata": {},
   "outputs": [
    {
     "name": "stdout",
     "output_type": "stream",
     "text": [
      "Intercept:  38423.30585815743\n",
      "Slop:       [-821.73337832]\n",
      "Y-hat:\n",
      " [16236.50464347 16236.50464347 17058.23802179 13771.3045085\n",
      " 20345.17153508 17879.97140011 17879.97140011 17879.97140011\n",
      " 21988.63829172 14593.03788682 14593.03788682 15414.77126514\n",
      " 15414.77126514 17879.97140011 20345.17153508 20345.17153508\n",
      " 21988.63829172 -5128.5631929   3088.77059031  3088.77059031\n",
      "  4732.23734696  7197.43748192 13771.3045085   7197.43748192\n",
      "  7197.43748192  7197.43748192 13771.3045085  13771.3045085\n",
      " 18701.70477843 -5950.29657123  7197.43748192  3910.50396864\n",
      " 10484.37099521 10484.37099521 10484.37099521 10484.37099521\n",
      " 11306.10437353 11306.10437353 11306.10437353 11306.10437353\n",
      " 15414.77126514 12949.57113018 14593.03788682 14593.03788682\n",
      " 22810.37167004 22810.37167004 24453.83842668 12949.57113018\n",
      "  7197.43748192  7197.43748192  7197.43748192  7197.43748192\n",
      " 19523.43815675 19523.43815675 19523.43815675 19523.43815675\n",
      " 12127.83775186 12127.83775186 12127.83775186 12127.83775186\n",
      "  3910.50396864 12127.83775186 16236.50464347  6375.7041036\n",
      " 17879.97140011 17879.97140011 17879.97140011 17879.97140011\n",
      " 23632.10504836 23632.10504836 25275.57180501 25275.57180501\n",
      " 18701.70477843  4732.23734696  7197.43748192  7197.43748192\n",
      " 13771.3045085  13771.3045085  12127.83775186 18701.70477843\n",
      " 18701.70477843 18701.70477843 12127.83775186 12127.83775186\n",
      " 13771.3045085  13771.3045085   8019.17086025 -2663.36305794\n",
      "  8019.17086025  8019.17086025  8019.17086025  8019.17086025\n",
      "  8019.17086025  8019.17086025  8019.17086025  8019.17086025\n",
      " 10484.37099521 10484.37099521 20345.17153508 20345.17153508\n",
      " 17879.97140011 17879.97140011 19523.43815675 17879.97140011\n",
      " 18701.70477843 11306.10437353 18701.70477843 17879.97140011\n",
      " 18701.70477843 11306.10437353 18701.70477843 17879.97140011\n",
      " 18701.70477843 11306.10437353 18701.70477843  4732.23734696\n",
      " 13771.3045085   7197.43748192  7197.43748192  7197.43748192\n",
      " 13771.3045085  18701.70477843 16236.50464347 17879.97140011\n",
      " 17879.97140011 17879.97140011 12949.57113018 12949.57113018\n",
      " 15414.77126514 15414.77126514 15414.77126514 15414.77126514\n",
      " 17058.23802179 17058.23802179  8840.90423857 12949.57113018\n",
      " 12949.57113018  8019.17086025 11306.10437353 12127.83775186\n",
      " 17879.97140011 14593.03788682 12127.83775186 12949.57113018\n",
      " 14593.03788682 19523.43815675  6375.7041036   7197.43748192\n",
      "  7197.43748192  8019.17086025 12127.83775186 12127.83775186\n",
      "  8019.17086025  8019.17086025  8840.90423857  -198.16292297\n",
      "  -198.16292297 10484.37099521 10484.37099521 10484.37099521\n",
      " 10484.37099521 14593.03788682 14593.03788682 13771.3045085\n",
      " 13771.3045085  13771.3045085  13771.3045085  13771.3045085\n",
      " 13771.3045085  10484.37099521 11306.10437353 12127.83775186\n",
      " 12127.83775186 12127.83775186 18701.70477843 18701.70477843\n",
      " 18701.70477843 18701.70477843   623.57045535 10484.37099521\n",
      "   623.57045535 10484.37099521 10484.37099521  3910.50396864\n",
      " 12127.83775186 14593.03788682 14593.03788682 18701.70477843\n",
      "  7197.43748192 12949.57113018 15414.77126514 15414.77126514\n",
      " 15414.77126514 15414.77126514 20345.17153508 20345.17153508\n",
      " 15414.77126514 17879.97140011 19523.43815675 16236.50464347\n",
      " 17879.97140011]\n"
     ]
    }
   ],
   "source": [
    "# Create linear regression object\n",
    "lm = LinearRegression()\n",
    "\n",
    "# Define predictor and target variables\n",
    "X = df[[\"highway-mpg\"]]\n",
    "Y = df[\"price\"]\n",
    "\n",
    "# Fit the model using the sample data\n",
    "lm.fit(X, Y)\n",
    "\n",
    "# Optain a prediction\n",
    "Yhat = lm.predict(X)\n",
    "\n",
    "print(\"Intercept: \", lm.intercept_)\n",
    "print(\"Slop:      \", lm.coef_)\n",
    "print(\"Y-hat:\\n\", Yhat)"
   ]
  },
  {
   "cell_type": "markdown",
   "metadata": {},
   "source": [
    "### Multiple Linear Regression"
   ]
  },
  {
   "cell_type": "code",
   "execution_count": 32,
   "metadata": {},
   "outputs": [
    {
     "name": "stdout",
     "output_type": "stream",
     "text": [
      "Intercept:  -15700.573979039282\n",
      "Slop:       [53.27878556  4.66217408 82.22948394 35.5175845 ]\n",
      "Y-hat:\n",
      " [13741.39845627 13741.39845627 19088.01516843 10657.90424705\n",
      " 15557.06262444 13919.31226826 15490.46493163 16003.3040799\n",
      " 17628.33928255 10757.28448941 10757.28448941 17860.77855061\n",
      " 18117.19812475 19362.67585307 27022.3362595  27721.66237079\n",
      " 28233.3989612    692.55325105  5693.76491579  5856.94100842\n",
      "  5525.49652381  5418.9437703   8778.98554196  5843.20161115\n",
      "  5945.76944081  5945.76944081  9072.70250871 11904.09500729\n",
      " 18810.44277621  4858.96186031  5743.88910041  4048.43471151\n",
      "  6165.94182551  6240.53661071  6492.29401078  6557.56444783\n",
      "  9523.34633387  9770.44155986  9840.37417099 10157.4020081\n",
      " 11212.57805806 10463.95808505  9508.15477689 12656.21918307\n",
      " 34522.93303266 34522.93303266 44084.66613744  5317.82059978\n",
      "  5613.06543205  5636.37630243  5822.86326544  5846.17413581\n",
      "  7349.5259815   7349.5259815   7372.83685187 10542.76041912\n",
      " 11062.68892275 11179.24327463 11062.68892275 11179.24327463\n",
      " 10622.69515285 11249.17588576 15611.98760294 13127.30522849\n",
      " 23176.1936937  24271.80460139 23082.9502122  24365.04808289\n",
      " 29875.18458818 29618.76501404 38180.16386423 36988.74372455\n",
      " 19554.68983352  5885.76680285  5900.4305753   6180.16101982\n",
      "  8858.24250124 11639.88847337 11010.06014271 18913.01060587\n",
      " 19323.28192449 19346.59279487 11182.5605835  11369.04754651\n",
      " 11793.74021785 11793.74021785  6072.91962193  6878.88040784\n",
      "  6208.12267011  6301.36615162  6702.31312209  6361.9744146\n",
      "  6720.96181839  6455.2178961   6762.92138507  6627.71833689\n",
      " 11377.49671761 11274.92888796 22492.15364206 23429.25063119\n",
      " 22435.53030293 22913.04450227 25290.18859295 23230.07233939\n",
      " 14267.19402898 17936.84301581 15246.25058478 18738.98889933\n",
      " 14417.05603199 18193.26258995 15396.11258779 18995.40847347\n",
      " 14523.61360312 18193.26258995 18328.79130282  5721.30783497\n",
      "  8778.98554196  5843.20161115  5945.76944081  7545.36447554\n",
      " 11904.09500729 18843.07799474 18245.4387944  25017.54588132\n",
      " 25017.54588132 25222.68154063 13496.41104801 13668.9114888\n",
      " 13724.8575777  13962.62845554 16788.6412685  16970.46605744\n",
      "  6788.01206355  8054.41579192  8613.87668095  8863.58472089\n",
      "  8931.31221627 10234.46616982  9556.29548493 11826.2223637\n",
      "  9362.01203929 10735.09860398  9861.54191557 12265.82122723\n",
      "  5807.42458351  6028.32657314  5911.77222126  7111.7307667\n",
      "  6980.76458495 10803.74732666  7103.56531389  7234.106188\n",
      "  8213.36030939  8604.05373891  7519.34942189  7188.16169747\n",
      "  7272.08083082  7407.28387901  7570.45997164  9914.97366141\n",
      " 10078.14975405 15392.71948805 15374.07079175 15444.00340288\n",
      " 16040.76168451 16203.93777715 17420.76521079 11284.88610582\n",
      "  9968.2925959  11624.12225544 11624.12225544 11829.25791475\n",
      " 21665.60432677 21852.09128978 22121.84738062 21392.79602271\n",
      "  7221.16728386  9297.47694883  7235.15380608  9311.46347106\n",
      "  9605.1804378   8201.96361124 10449.88140414  9596.08078753\n",
      "  9442.22904305 14601.76949135  9272.0585328  11001.17017466\n",
      " 16538.30808421 17107.09332139 16645.53808794 17144.390714\n",
      " 18598.12911293 19120.29260936 16724.79504722 19521.29731497\n",
      " 20523.85676663 17827.44124392 17131.081442  ]\n"
     ]
    }
   ],
   "source": [
    "# Store 4 predictor variables in Z\n",
    "z = df[[\"horsepower\", \"curb-weight\", \"engine-size\", \"highway-mpg\"]]\n",
    "Y = df[\"price\"]\n",
    "\n",
    "# Fit the model using the sample data\n",
    "lm.fit(z, Y)\n",
    "\n",
    "# Optain a prediction\n",
    "Yhat = lm.predict(z)\n",
    "\n",
    "print(\"Intercept: \", lm.intercept_)\n",
    "print(\"Slop:      \", lm.coef_)\n",
    "print(\"Y-hat:\\n\", Yhat)"
   ]
  },
  {
   "cell_type": "markdown",
   "metadata": {},
   "source": [
    "## Model Evaluation using Visualization"
   ]
  },
  {
   "cell_type": "markdown",
   "metadata": {},
   "source": [
    "### Regression Plot"
   ]
  },
  {
   "cell_type": "code",
   "execution_count": 39,
   "metadata": {},
   "outputs": [
    {
     "name": "stderr",
     "output_type": "stream",
     "text": [
      "/usr/lib/python3/dist-packages/scipy/stats/stats.py:1626: FutureWarning: Using a non-tuple sequence for multidimensional indexing is deprecated; use `arr[tuple(seq)]` instead of `arr[seq]`. In the future this will be interpreted as an array index, `arr[np.array(seq)]`, which will result either in an error or a different result.\n",
      "  return np.add.reduce(sorted[indexer] * weights, axis=axis) / sumval\n"
     ]
    },
    {
     "data": {
      "text/plain": [
       "(0, 48323.77073452915)"
      ]
     },
     "execution_count": 39,
     "metadata": {},
     "output_type": "execute_result"
    },
    {
     "data": {
      "image/png": "[encoded data removed]",
      "text/plain": [
       "<matplotlib.figure.Figure at 0x647f8310>"
      ]
     },
     "metadata": {
      "needs_background": "light"
     },
     "output_type": "display_data"
    }
   ],
   "source": [
    "sns.regplot(x=\"highway-mpg\", y=\"price\", data=df)\n",
    "plt.ylim(0,)"
   ]
  },
  {
   "cell_type": "markdown",
   "metadata": {},
   "source": [
    "### Residual Plot"
   ]
  },
  {
   "cell_type": "code",
   "execution_count": 41,
   "metadata": {},
   "outputs": [
    {
     "data": {
      "text/plain": [
       "<matplotlib.axes._subplots.AxesSubplot at 0x647b55f0>"
      ]
     },
     "execution_count": 41,
     "metadata": {},
     "output_type": "execute_result"
    },
    {
     "data": {
      "image/png": "[encoded data removed]",
      "text/plain": [
       "<matplotlib.figure.Figure at 0x647bcc10>"
      ]
     },
     "metadata": {
      "needs_background": "light"
     },
     "output_type": "display_data"
    }
   ],
   "source": [
    "sns.residplot(df[\"highway-mpg\"], df[\"price\"])"
   ]
  },
  {
   "cell_type": "markdown",
   "metadata": {},
   "source": [
    "### Distribution Plot"
   ]
  },
  {
   "cell_type": "code",
   "execution_count": null,
   "metadata": {},
   "outputs": [],
   "source": [
    "ax1 = sns.distplot(df[\"price\"], hist=False, color=\"r\", label=\"Actual\")\n",
    "\n",
    "sns.distplot(Yhat, hist=False, color=\"b\", label=\"Fitted\")"
   ]
  }
 ],
 "metadata": {
  "kernelspec": {
   "display_name": "Python 3",
   "language": "python",
   "name": "python3"
  },
  "language_info": {
   "codemirror_mode": {
    "name": "ipython",
    "version": 3
   },
   "file_extension": ".py",
   "mimetype": "text/x-python",
   "name": "python",
   "nbconvert_exporter": "python",
   "pygments_lexer": "ipython3",
   "version": "3.5.3"
  }
 },
 "nbformat": 4,
 "nbformat_minor": 2
}
